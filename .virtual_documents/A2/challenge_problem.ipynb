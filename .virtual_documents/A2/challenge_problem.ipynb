





get_ipython().run_line_magic("load_ext", " autoreload")
get_ipython().run_line_magic("autoreload", " 2")





from google.colab import drive
drive.mount('/content/drive')





import os

# TODO: Fill in the Google Drive path where you uploaded the assignment
# Example: If you create a 2020FA folder and put all the files under A2 folder, then '2020FA/A2'
# GOOGLE_DRIVE_PATH_AFTER_MYDRIVE = '2020FA/A2'
GOOGLE_DRIVE_PATH_AFTER_MYDRIVE = '/home/luohan/master/classes/EECS/A2'
GOOGLE_DRIVE_PATH = os.path.join(GOOGLE_DRIVE_PATH_AFTER_MYDRIVE)
print(os.listdir(GOOGLE_DRIVE_PATH))


import sys
sys.path.append(GOOGLE_DRIVE_PATH)





from eecs598.a2_challenge_problem import get_w1, get_w2, display_templates, display_w2, evaluate_MNIST, visualize_MNIST





visualize_MNIST()








path_to_weights = 'path/to/hand_drawn_weights.jpeg'





w1 = get_w1(path_to_weights)
display_templates(w1)





w2 = get_w2(path_to_weights)
display_w2(w2)





accuracy, correct_digits, incorrect_digits = evaluate_MNIST(w1,w2)
print('your network scored',(accuracy)*100,'% on the MNIST test set')








# you can change the indices to display more digits or different digits
display_templates(correct_digits[:10])





#you can change the indices to display more digits or different digits
display_templates(incorrect_digits[:10])





from eecs598.submit import make_a2_submission

# TODO: Replace these with your actual uniquename and umid
uniquename = None
umid = None
make_a2_submission(GOOGLE_DRIVE_PATH, uniquename, umid)



